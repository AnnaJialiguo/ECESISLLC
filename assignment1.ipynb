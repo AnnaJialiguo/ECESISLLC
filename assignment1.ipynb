{
 "cells": [
  {
   "cell_type": "code",
   "execution_count": 1,
   "id": "54cfd1cd-5158-45f0-a2e8-08e0dbd0e63d",
   "metadata": {},
   "outputs": [],
   "source": [
    "import pandas as pd\n",
    "import datetime"
   ]
  },
  {
   "cell_type": "code",
   "execution_count": 2,
   "id": "994770a1-1827-4f21-bb51-fa41c84bb739",
   "metadata": {},
   "outputs": [],
   "source": [
    "def is_nrec_holiday(date):\n",
    "    nerc_holidays = {\n",
    "        (1, 1),   # New Year's Day\n",
    "        (5, 27),  # Memorial Day (last Monday in May)\n",
    "        (7, 4),   # Independence Day\n",
    "        (9, 2),   # Labor Day (first Monday in September)\n",
    "        (11, 28), # Thanksgiving Day (fourth Thursday in November)\n",
    "        (12, 25)  # Christmas Day\n",
    "    }\n",
    "    return (date.month, date.day) in nerc_holidays"
   ]
  },
  {
   "cell_type": "code",
   "execution_count": 3,
   "id": "3ae20ee7-f801-4c4c-8a04-2261f6be3d3f",
   "metadata": {},
   "outputs": [],
   "source": [
    "def get_hours(iso, peak_type, period):\n",
    "    # Define peak type\n",
    "    peak_hours = {\n",
    "        \"onpeak\": list(range(7, 23)),\n",
    "        \"offpeak\": [h for h in range(24) if h not in range(7, 23)],\n",
    "        \"flat\": list(range(24)),\n",
    "        \"2x16H\": list(range(7, 23)),\n",
    "        \"7x8\": [h for h in range(24) if h not in range(7, 23)]\n",
    "    }\n",
    "    # Define period\n",
    "    if period.endswith(\"A\"): #Annually\n",
    "        start_date = datetime.datetime.strptime(period[:-1] + \"-01-01\", \"%Y-%m-%d\")\n",
    "        end_date = datetime.datetime.strptime(period[:-1] + \"-12-31\", \"%Y-%m-%d\")\n",
    "    elif period[-2]==\"Q\": #Quartly\n",
    "        year, quarter = period[:-2], period[-2:]\n",
    "        if quarter == \"Q1\":\n",
    "            start_date = datetime.datetime.strptime(year + \"-01-01\", \"%Y-%m-%d\")\n",
    "            end_date = datetime.datetime.strptime(year + \"-03-31\", \"%Y-%m-%d\")\n",
    "        elif quarter == \"Q2\":\n",
    "            start_date = datetime.datetime.strptime(year + \"-04-01\", \"%Y-%m-%d\")\n",
    "            end_date = datetime.datetime.strptime(year + \"-06-30\", \"%Y-%m-%d\")\n",
    "        elif quarter == \"Q3\":\n",
    "            start_date = datetime.datetime.strptime(year + \"-07-01\", \"%Y-%m-%d\")\n",
    "            end_date = datetime.datetime.strptime(year + \"-09-30\", \"%Y-%m-%d\")\n",
    "        elif quarter == \"Q4\":\n",
    "            start_date = datetime.datetime.strptime(year + \"-10-01\", \"%Y-%m-%d\")\n",
    "            end_date = datetime.datetime.strptime(year + \"-12-31\", \"%Y-%m-%d\")\n",
    "    elif len(period) == 7:  # Monthly\n",
    "        year, monthtxt = period[:-3], period[-3:]\n",
    "        month = datetime.datetime.strptime(monthtxt, \"%B\").strftime(\"%m\")\n",
    "        start_date = datetime.datetime.strptime(year+ \"-\"+month + \"-01\", \"%Y-%m-%d\")\n",
    "        end_date = (start_date + datetime.timedelta(days=32)).replace(day=1) - datetime.timedelta(days=1)\n",
    "    else:  # Daily\n",
    "        start_date = datetime.datetime.strptime(period, \"%Y-%m-%d\")\n",
    "        end_date = start_date\n",
    "\n",
    "    num_hours = 0\n",
    "    current_date = start_date\n",
    "    while current_date <= end_date:\n",
    "        if peak_type == \"onpeak\":\n",
    "            if current_date.weekday() < 5 and not is_nrec_holiday(current_date):  # Monday to Friday, non-NERC holiday\n",
    "                num_hours += len(peak_hours[\"onpeak\"])\n",
    "        elif peak_type == \"offpeak\":\n",
    "            if current_date.weekday() >= 5 or is_nrec_holiday(current_date):  # Weekends and NERC holidays\n",
    "                num_hours += 24\n",
    "            else:\n",
    "                num_hours += len(peak_hours[\"offpeak\"])\n",
    "        elif peak_type == \"flat\":\n",
    "            num_hours += 24\n",
    "        elif peak_type == \"2x16H\":\n",
    "            if current_date.weekday() >= 5 or is_nrec_holiday(current_date):  # Weekends and NERC holidays\n",
    "                num_hours += len(peak_hours[\"2x16H\"])\n",
    "        elif peak_type == \"7x8\":\n",
    "            if current_date.weekday() < 5 and not is_nrec_holiday(current_date):  # Monday to Friday, non-NERC holiday\n",
    "                num_hours += len(peak_hours[\"7x8\"])\n",
    "        current_date += datetime.timedelta(days=1)\n",
    "\n",
    "    return {\n",
    "        \"iso\": iso,\n",
    "        \"peak_type\": peak_type.upper(),\n",
    "        \"startdate\": start_date.strftime(\"%Y-%m-%d\"),\n",
    "        \"enddate\": end_date.strftime(\"%Y-%m-%d\"),\n",
    "        \"num_hours\": num_hours\n",
    "    }"
   ]
  },
  {
   "cell_type": "code",
   "execution_count": 4,
   "id": "06d29a2f-1952-4a69-9ae4-089beb9ee063",
   "metadata": {},
   "outputs": [
    {
     "name": "stdout",
     "output_type": "stream",
     "text": [
      "{'iso': 'ERCOT', 'peak_type': 'ONPEAK', 'startdate': '2019-05-01', 'enddate': '2019-05-31', 'num_hours': 352}\n"
     ]
    }
   ],
   "source": [
    "# Sample run\n",
    "df = pd.read_csv('C:/Users/Lenovo/Downloads/EGPS_PowerCalendar.csv')\n",
    "results = get_hours(\"ERCOT\", \"onpeak\", \"2019May\")\n",
    "print(results)"
   ]
  }
 ],
 "metadata": {
  "kernelspec": {
   "display_name": "Python 3 (ipykernel)",
   "language": "python",
   "name": "python3"
  },
  "language_info": {
   "codemirror_mode": {
    "name": "ipython",
    "version": 3
   },
   "file_extension": ".py",
   "mimetype": "text/x-python",
   "name": "python",
   "nbconvert_exporter": "python",
   "pygments_lexer": "ipython3",
   "version": "3.11.7"
  }
 },
 "nbformat": 4,
 "nbformat_minor": 5
}
